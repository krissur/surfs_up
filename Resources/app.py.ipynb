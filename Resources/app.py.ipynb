{
 "cells": [
  {
   "cell_type": "code",
   "execution_count": 1,
   "id": "3e51007e",
   "metadata": {},
   "outputs": [],
   "source": [
    "# import our dependencies \n",
    "import datetime as dt\n",
    "import numpy as np\n",
    "import pandas as pd"
   ]
  },
  {
   "cell_type": "code",
   "execution_count": 2,
   "id": "b6af0c38",
   "metadata": {},
   "outputs": [],
   "source": [
    "# Add the SQLAlchemy dependencies after the other dependencies\n",
    "import sqlalchemy\n",
    "from sqlalchemy.ext.automap import automap_base\n",
    "from sqlalchemy.orm import Session\n",
    "from sqlalchemy import create_engine, func"
   ]
  },
  {
   "cell_type": "code",
   "execution_count": 3,
   "id": "6803f3cd",
   "metadata": {},
   "outputs": [],
   "source": [
    "# import the dependencies that we need for Flask\n",
    "from flask import Flask, jsonify"
   ]
  },
  {
   "cell_type": "code",
   "execution_count": 4,
   "id": "da8f5594",
   "metadata": {},
   "outputs": [],
   "source": [
    "# set up our database engine for the Flask application\n",
    "    #create_engine() function allows us to access and query our SQLite database file\n",
    "engine = create_engine(\"sqlite:///hawaii.sqlite\")"
   ]
  },
  {
   "cell_type": "code",
   "execution_count": 5,
   "id": "85bc08b0",
   "metadata": {},
   "outputs": [],
   "source": [
    "# reflect the database into our classes  w/ prepare () function (base= database) explanation in 9.1.5\n",
    "Base = automap_base()\n",
    "Base.prepare(engine, reflect=True)"
   ]
  },
  {
   "cell_type": "code",
   "execution_count": 6,
   "id": "cc608dbd",
   "metadata": {},
   "outputs": [],
   "source": [
    "# save our references to each table\n",
    "Measurement = Base.classes.measurement\n",
    "Station = Base.classes.station"
   ]
  },
  {
   "cell_type": "code",
   "execution_count": 7,
   "id": "86bb54d6",
   "metadata": {},
   "outputs": [],
   "source": [
    "# create a session link from Python to our database\n",
    "session = Session(engine)"
   ]
  },
  {
   "cell_type": "code",
   "execution_count": 8,
   "id": "52837b4a",
   "metadata": {},
   "outputs": [],
   "source": [
    "# create a Flask application called \"app\"\n",
    "app = Flask(__name__)"
   ]
  },
  {
   "cell_type": "code",
   "execution_count": 9,
   "id": "791cca19",
   "metadata": {
    "scrolled": true
   },
   "outputs": [],
   "source": [
    "# define the welcome route using the code below\n",
    "@app.route(\"/\")\n",
    "# add routing info below\n",
    "def welcome():\n",
    "    return(\n",
    "    '''\n",
    "    Welcome to the Climate Analysis API!\n",
    "    Available Routes:\n",
    "    /api/v1.0/precipitation\n",
    "    /api/v1.0/stations\n",
    "    /api/v1.0/tobs\n",
    "    /api/v1.0/temp/start/end\n",
    "    ''')"
   ]
  },
  {
   "cell_type": "code",
   "execution_count": 10,
   "id": "898d89b9",
   "metadata": {},
   "outputs": [],
   "source": [
    "# referencing above cell-  When creating routes, we follow the naming convention /api/v1.0/ followed by the name of the route. \n",
    "# This convention signifies that this is version 1 of our application. \n",
    "#This line can be updated to support future versions of the app as well."
   ]
  },
  {
   "cell_type": "code",
   "execution_count": null,
   "id": "4738ec86",
   "metadata": {},
   "outputs": [],
   "source": []
  }
 ],
 "metadata": {
  "kernelspec": {
   "display_name": "Python 3 (ipykernel)",
   "language": "python",
   "name": "python3"
  },
  "language_info": {
   "codemirror_mode": {
    "name": "ipython",
    "version": 3
   },
   "file_extension": ".py",
   "mimetype": "text/x-python",
   "name": "python",
   "nbconvert_exporter": "python",
   "pygments_lexer": "ipython3",
   "version": "3.7.11"
  }
 },
 "nbformat": 4,
 "nbformat_minor": 5
}
